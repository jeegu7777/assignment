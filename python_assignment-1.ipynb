{
  "nbformat": 4,
  "nbformat_minor": 0,
  "metadata": {
    "colab": {
      "provenance": []
    },
    "kernelspec": {
      "name": "python3",
      "display_name": "Python 3"
    },
    "language_info": {
      "name": "python"
    }
  },
  "cells": [
    {
      "cell_type": "markdown",
      "source": [
        "# 1. Write a python program to sum of the first n positive integers"
      ],
      "metadata": {
        "id": "zwXYb3SXTDkM"
      }
    },
    {
      "cell_type": "code",
      "execution_count": null,
      "metadata": {
        "colab": {
          "base_uri": "https://localhost:8080/"
        },
        "id": "IVk3wnu4SZc9",
        "outputId": "abfcc13c-1577-4a49-c8a6-a50b4919892b"
      },
      "outputs": [
        {
          "name": "stdout",
          "output_type": "stream",
          "text": [
            "input a number :24\n"
          ]
        },
        {
          "output_type": "execute_result",
          "data": {
            "text/plain": [
              "48"
            ]
          },
          "metadata": {},
          "execution_count": 2
        }
      ],
      "source": [
        "# method-1\n",
        "num = int(input(\"input a number :\"))\n",
        "sum_num = (num +num)\n",
        "sum_num"
      ]
    },
    {
      "cell_type": "code",
      "source": [
        "# method-2\n",
        "def sum(x, y):\n",
        "  return x+ y\n",
        "\n",
        "from functools import reduce\n",
        "\n",
        "reduce(sum, lst)"
      ],
      "metadata": {
        "colab": {
          "base_uri": "https://localhost:8080/"
        },
        "id": "MeAwrzGZgOe0",
        "outputId": "6e83cb3e-dd65-40d8-97e4-68359b5ba7a1"
      },
      "execution_count": null,
      "outputs": [
        {
          "output_type": "execute_result",
          "data": {
            "text/plain": [
              "21"
            ]
          },
          "metadata": {},
          "execution_count": 11
        }
      ]
    },
    {
      "cell_type": "code",
      "source": [
        "# method-3\n",
        "\n",
        "#num = int(input(\"input a number :\"))\n",
        "#sum_num = (num*(num+1))/2\n",
        "#print(sum_num)"
      ],
      "metadata": {
        "id": "jcgafpn9gPbC"
      },
      "execution_count": null,
      "outputs": []
    },
    {
      "cell_type": "code",
      "source": [
        "num = int(input(\"enter the number :\"))\n",
        "sum_num = (num*(num+1))/2\n",
        "print(sum_num)"
      ],
      "metadata": {
        "colab": {
          "base_uri": "https://localhost:8080/"
        },
        "id": "OQWTag9FibP1",
        "outputId": "621400ba-8b3d-4127-db1e-9689dbf59e81"
      },
      "execution_count": null,
      "outputs": [
        {
          "output_type": "stream",
          "name": "stdout",
          "text": [
            "enter the number :10\n",
            "55.0\n"
          ]
        }
      ]
    },
    {
      "cell_type": "markdown",
      "source": [
        "## 2. Write a Python program to count occurrences of a substring in a string."
      ],
      "metadata": {
        "id": "lXBEONNxi__T"
      }
    },
    {
      "cell_type": "code",
      "source": [
        "# method -1\n",
        "\n",
        "str1 = \"the tops is the best institute in IT sector\"\n",
        "print(str1.count(\"tops\"))"
      ],
      "metadata": {
        "colab": {
          "base_uri": "https://localhost:8080/"
        },
        "id": "5qgrvi5DjBTM",
        "outputId": "db127290-f6c3-45b2-bcf3-9395133d39a3"
      },
      "execution_count": null,
      "outputs": [
        {
          "output_type": "stream",
          "name": "stdout",
          "text": [
            "1\n"
          ]
        }
      ]
    },
    {
      "cell_type": "code",
      "source": [
        "print(str1.count(\"b\"))"
      ],
      "metadata": {
        "colab": {
          "base_uri": "https://localhost:8080/"
        },
        "id": "jrKys0uMlyiN",
        "outputId": "bba7cf57-a5ae-46f8-81b4-48db2cf92bfe"
      },
      "execution_count": null,
      "outputs": [
        {
          "output_type": "stream",
          "name": "stdout",
          "text": [
            "1\n"
          ]
        }
      ]
    },
    {
      "cell_type": "code",
      "source": [
        "print(str1.count(\"t\"))"
      ],
      "metadata": {
        "colab": {
          "base_uri": "https://localhost:8080/"
        },
        "id": "ZQyCVeBgl8Tf",
        "outputId": "8457f298-e2c1-426e-ba06-ee869eb9a88a"
      },
      "execution_count": null,
      "outputs": [
        {
          "output_type": "stream",
          "name": "stdout",
          "text": [
            "8\n"
          ]
        }
      ]
    },
    {
      "cell_type": "code",
      "source": [
        "print(str1.count(\"i\"))"
      ],
      "metadata": {
        "colab": {
          "base_uri": "https://localhost:8080/"
        },
        "id": "nDM29VBKouIh",
        "outputId": "661d501b-026d-4035-b34f-411f7b16a5df"
      },
      "execution_count": null,
      "outputs": [
        {
          "output_type": "stream",
          "name": "stdout",
          "text": [
            "4\n"
          ]
        }
      ]
    },
    {
      "cell_type": "code",
      "source": [
        "# method-2\n",
        "my_string = input(\"enter the string :\")\n",
        "my_substring = input(\"enter the substring :\")\n",
        "\n",
        "my_count= my_string.count(my_substring)\n",
        "print(f\"substring occurs \",my_count)\n",
        "\n"
      ],
      "metadata": {
        "colab": {
          "base_uri": "https://localhost:8080/"
        },
        "id": "QQGhw7OIpBQ-",
        "outputId": "2d712e66-64bc-4181-c0e1-c718da916e55"
      },
      "execution_count": null,
      "outputs": [
        {
          "output_type": "stream",
          "name": "stdout",
          "text": [
            "enter the string :the tops is the best institute in it sector\n",
            "enter the substring :hello\n",
            "substring occurs  0\n"
          ]
        }
      ]
    },
    {
      "cell_type": "code",
      "source": [
        "y_string = input(\"enter the string :\")\n",
        "my_substring = input(\"enter the substring :\")\n",
        "\n",
        "my_count= my_string.count(my_substring)\n",
        "print(f\"substring occurs \",my_count)\n",
        "\n"
      ],
      "metadata": {
        "colab": {
          "base_uri": "https://localhost:8080/"
        },
        "id": "jBEZiFjtqtip",
        "outputId": "5d0dc5e3-b67f-4451-c067-f276102b5f6e"
      },
      "execution_count": null,
      "outputs": [
        {
          "output_type": "stream",
          "name": "stdout",
          "text": [
            "enter the string :the tops is the best institute in IT sector\n",
            "enter the substring :in\n",
            "substring occurs  2\n"
          ]
        }
      ]
    },
    {
      "cell_type": "markdown",
      "source": [
        "# 3. Write a Python program to count the occurrences of each word in a given sentence."
      ],
      "metadata": {
        "id": "RqnFAluXsOPp"
      }
    },
    {
      "cell_type": "code",
      "source": [
        "string=input(\"Enter string:\")\n",
        "word=input(\"Enter word:\")\n",
        "a=[]\n",
        "count=0\n",
        "a=string.split(\" \")\n",
        "for i in range(0,len(a)):\n",
        "      if(word==a[i]):\n",
        "            count=count+1\n",
        "print(\"Count of the word is:\")\n",
        "print(count)"
      ],
      "metadata": {
        "colab": {
          "base_uri": "https://localhost:8080/"
        },
        "id": "-t2Ih2Ehtigj",
        "outputId": "b08b8066-db77-454d-cfa9-ac167910bc51"
      },
      "execution_count": null,
      "outputs": [
        {
          "output_type": "stream",
          "name": "stdout",
          "text": [
            "Enter string:the best class in area\n",
            "Enter word:a\n",
            "Count of the word is:\n",
            "0\n"
          ]
        }
      ]
    },
    {
      "cell_type": "code",
      "source": [
        "def word_count(str):\n",
        "    counts = dict()\n",
        "    words = str.split()\n",
        "\n",
        "    for word in words:\n",
        "        if word in counts:\n",
        "            counts[word] += 1\n",
        "        else:\n",
        "            counts[word] = 1\n",
        "\n",
        "    return counts\n",
        "\n",
        "print( word_count('the quick brown fox jumps over the lazy dog.'))\n"
      ],
      "metadata": {
        "colab": {
          "base_uri": "https://localhost:8080/"
        },
        "id": "epna3s5irql2",
        "outputId": "4385ba7b-2801-4b4b-ab55-55db55bc4848"
      },
      "execution_count": null,
      "outputs": [
        {
          "output_type": "stream",
          "name": "stdout",
          "text": [
            "{'the': 2, 'quick': 1, 'brown': 1, 'fox': 1, 'jumps': 1, 'over': 1, 'lazy': 1, 'dog.': 1}\n"
          ]
        }
      ]
    },
    {
      "cell_type": "code",
      "source": [
        "str = \"To change the overall look your document. To change the look available in the gallery\"\n",
        "c = dict()\n",
        "txt = str.split(\" \")\n",
        "for t in txt:\n",
        "\tif t in c:\n",
        "\t\tc[t] += 1\n",
        "\telse:\n",
        "\t\tc[t] = 1\n",
        "print(c)"
      ],
      "metadata": {
        "colab": {
          "base_uri": "https://localhost:8080/"
        },
        "id": "k_aX-47xsNWs",
        "outputId": "0dcc29cd-3924-4499-a84e-2d712ddc1b3d"
      },
      "execution_count": null,
      "outputs": [
        {
          "output_type": "stream",
          "name": "stdout",
          "text": [
            "{'To': 2, 'change': 2, 'the': 3, 'overall': 1, 'look': 2, 'your': 1, 'document.': 1, 'available': 1, 'in': 1, 'gallery': 1}\n"
          ]
        }
      ]
    },
    {
      "cell_type": "markdown",
      "source": [
        "# 4. Write a Python program to get a single string from two given strings, separated by a space and swap the first two characters of each string. \n",
        " \n"
      ],
      "metadata": {
        "id": "Syr_hIdat0l-"
      }
    },
    {
      "cell_type": "code",
      "source": [
        "def chars_mix_up(a, b):\n",
        "  new_a = b[:2] + a[2:]\n",
        "  new_b = a[:2] + b[2:]\n",
        "\n",
        "  return new_a + ' ' + new_b\n",
        "\n",
        "\n",
        "  \n",
        "print(chars_mix_up('abc', 'xyz'))"
      ],
      "metadata": {
        "colab": {
          "base_uri": "https://localhost:8080/"
        },
        "id": "POXN1SMSuILi",
        "outputId": "6e3b30b2-c1a4-43fb-867c-03702a529a2f"
      },
      "execution_count": null,
      "outputs": [
        {
          "output_type": "stream",
          "name": "stdout",
          "text": [
            "xyc abz\n"
          ]
        }
      ]
    },
    {
      "cell_type": "code",
      "source": [
        "a = input(\"enter name\")\n",
        "b = input(\"enter name\")\n",
        "print(a,b)"
      ],
      "metadata": {
        "colab": {
          "base_uri": "https://localhost:8080/"
        },
        "id": "YhlvslnIu_PA",
        "outputId": "cb054c9a-0d94-41b3-8784-c24a0fc4d9fb"
      },
      "execution_count": null,
      "outputs": [
        {
          "output_type": "stream",
          "name": "stdout",
          "text": [
            "enter namejeegu\n",
            "enter namekatariya\n",
            "jeegu katariya\n"
          ]
        }
      ]
    },
    {
      "cell_type": "markdown",
      "source": [
        "#5. Write a Python program to add 'ing' at the end of a given string (length should be at least 3).If the given string already ends with 'ing' then add 'ly' instead If the string length of the given string is less than 3, leave it unchanged \n",
        "\n",
        " \n"
      ],
      "metadata": {
        "id": "P2eNdlCEw6dX"
      }
    },
    {
      "cell_type": "code",
      "source": [
        "def add_string(str1):\n",
        "  length = len(str1)\n",
        "\n",
        "  if length > 2:\n",
        "    if str1[-3:] == 'ing':\n",
        "      str1 += 'ly'\n",
        "    else:\n",
        "      str1 += 'ing'\n",
        "\n",
        "  return str1\n",
        "print(add_string('ab'))\n",
        "print(add_string('abc'))\n",
        "print(add_string('string'))\n",
        "\n"
      ],
      "metadata": {
        "colab": {
          "base_uri": "https://localhost:8080/"
        },
        "id": "CJ90IVXOwC9O",
        "outputId": "9c0314f2-3b5f-4538-88a4-86289d588cb6"
      },
      "execution_count": null,
      "outputs": [
        {
          "output_type": "stream",
          "name": "stdout",
          "text": [
            "ab\n",
            "abcing\n",
            "stringly\n"
          ]
        }
      ]
    },
    {
      "cell_type": "markdown",
      "source": [
        "#6. Write a Python program to find the first appearance of the substring 'not' and 'poor' from a given string, if 'not' follows the 'poor', replace the whole 'not'...'poor' substring with 'good'.Return the resulting string\n",
        " \n",
        "\n"
      ],
      "metadata": {
        "id": "nyhCZwGwyr1f"
      }
    },
    {
      "cell_type": "code",
      "source": [
        "def not_poor(str1):\n",
        "  snot = str1.find('not')\n",
        "  spoor = str1.find('poor')\n",
        "  \n",
        "\n",
        "  if spoor > snot and snot>0 and spoor>0:\n",
        "    str1 = str1.replace(str1[snot:(spoor+4)], 'good')\n",
        "    return str1\n",
        "  else:\n",
        "    return str1\n",
        "print(not_poor('The lyrics is not that poor!'))\n",
        "print(not_poor('The lyrics is poor!'))\n",
        "\n"
      ],
      "metadata": {
        "colab": {
          "base_uri": "https://localhost:8080/"
        },
        "id": "XRM7BJbP1Z_m",
        "outputId": "5497f16d-053a-430a-dae1-f22c88457c05"
      },
      "execution_count": null,
      "outputs": [
        {
          "output_type": "stream",
          "name": "stdout",
          "text": [
            "The lyrics is good!\n",
            "The lyrics is poor!\n"
          ]
        }
      ]
    },
    {
      "cell_type": "code",
      "source": [
        "def not_poor(str1):  \n",
        "  snot = str1.find('not')  \n",
        "  sbad = str1.find('poor')  \n",
        "  \n",
        "  if sbad > snot:  \n",
        "    str1 = str1.replace(str1[snot:(sbad+4)], 'good')  \n",
        "  \n",
        "  return str1  \n",
        "print(not_poor('The lyrics is not that poor!'))  \n"
      ],
      "metadata": {
        "id": "hnNNnN972KxG",
        "outputId": "96f9d9d3-c267-4c32-f23b-5f84c0cc3399",
        "colab": {
          "base_uri": "https://localhost:8080/"
        }
      },
      "execution_count": null,
      "outputs": [
        {
          "output_type": "stream",
          "name": "stdout",
          "text": [
            "The lyrics is good!\n"
          ]
        }
      ]
    },
    {
      "cell_type": "markdown",
      "source": [
        "#7. Program to find Greatest Common Divisor of two numbers.\n",
        "#For example, the GCD of 20 and 28 is 4 and GCD of 98 and 56 is 14.\n"
      ],
      "metadata": {
        "id": "H9hquH1n4AhK"
      }
    },
    {
      "cell_type": "code",
      "source": [
        "# Python program to find GCD of two numbers\n",
        " \n",
        "# Function to find gcd of two numbers\n",
        " \n",
        " \n",
        "def gcd(a, b):\n",
        "    # Find minimum of a and b\n",
        "    result = min(a, b)\n",
        " \n",
        "    while result:\n",
        "        if a % result == 0 and b % result == 0:\n",
        "            break\n",
        "        result -= 1\n",
        " \n",
        "    # Return the gcd of a and b\n",
        "    return result\n",
        " \n",
        " \n",
        "# Driver Code\n",
        "a = 98\n",
        "b = 56\n",
        " \n",
        "print(f\"GCD of {a} and {b} is {gcd(a, b)}\")\n",
        " "
      ],
      "metadata": {
        "colab": {
          "base_uri": "https://localhost:8080/"
        },
        "id": "VCC9hSXG4H_k",
        "outputId": "6417a78a-bc3f-4af4-8b52-57f3f9feb936"
      },
      "execution_count": null,
      "outputs": [
        {
          "output_type": "stream",
          "name": "stdout",
          "text": [
            "GCD of 98 and 56 is 14\n"
          ]
        }
      ]
    },
    {
      "cell_type": "markdown",
      "source": [
        "#8. Write a Python program to check whether a list contains a sublist.\n"
      ],
      "metadata": {
        "id": "Kz-YEvpr9FTd"
      }
    },
    {
      "cell_type": "code",
      "source": [
        "def is_Sublist(l, s):\n",
        "\tsub_set = False\n",
        "\tif s == []:\n",
        "\t\tsub_set = True\n",
        "\telif s == l:\n",
        "\t\tsub_set = True\n",
        "\telif len(s) > len(l):\n",
        "\t\tsub_set = False\n",
        "\n",
        "\telse:\n",
        "\t\tfor i in range(len(l)):\n",
        "\t\t\tif l[i] == s[0]:\n",
        "\t\t\t\tn = 1\n",
        "\t\t\t\twhile (n < len(s)) and (l[i+n] == s[n]):\n",
        "\t\t\t\t\tn += 1\n",
        "\t\t\t\t\n",
        "\t\t\t\tif n == len(s):\n",
        "\t\t\t\t\tsub_set = True\n",
        "\n",
        "\treturn sub_set\n",
        "\n",
        "a = [2,4,3,5,7]\n",
        "b = [4,3]\n",
        "c = [3,7]\n",
        "print(is_Sublist(a, b))\n",
        "print(is_Sublist(a, c))"
      ],
      "metadata": {
        "colab": {
          "base_uri": "https://localhost:8080/"
        },
        "id": "LuG6KI6L9Jn2",
        "outputId": "3b633b17-88a1-4397-dc77-99826aa329b8"
      },
      "execution_count": null,
      "outputs": [
        {
          "output_type": "stream",
          "name": "stdout",
          "text": [
            "True\n",
            "False\n"
          ]
        }
      ]
    },
    {
      "cell_type": "markdown",
      "source": [
        "#9. Write a Python program to find the second smallest number in a list. \n"
      ],
      "metadata": {
        "id": "klLEyzn_-EJC"
      }
    },
    {
      "cell_type": "code",
      "source": [
        "def second_smallest(numbers):\n",
        "  if (len(numbers)<2):\n",
        "    return\n",
        "  if ((len(numbers)==2)  and (numbers[0] == numbers[1]) ):\n",
        "    return\n",
        "  dup_items = set()\n",
        "  uniq_items = []\n",
        "  for x in numbers:\n",
        "    if x not in dup_items:\n",
        "      uniq_items.append(x)\n",
        "      dup_items.add(x)\n",
        "  uniq_items.sort()    \n",
        "  return  uniq_items[1]   \n",
        "\n",
        "print(second_smallest([1, 2, -8, -2, 0, -2]))\n",
        "print(second_smallest([1, 1, 0, 0, 2, -2, -2]))\n",
        "print(second_smallest([1, 1, 1, 0, 0, 0, 2, -2, -2]))\n",
        "print(second_smallest([2,2]))\n",
        "print(second_smallest([2]))\n"
      ],
      "metadata": {
        "colab": {
          "base_uri": "https://localhost:8080/"
        },
        "id": "WBm95jdd-bT3",
        "outputId": "89fa4c64-bf47-42fd-b282-6a55a5c8f6e3"
      },
      "execution_count": null,
      "outputs": [
        {
          "output_type": "stream",
          "name": "stdout",
          "text": [
            "-2\n",
            "0\n",
            "0\n",
            "None\n",
            "None\n"
          ]
        }
      ]
    },
    {
      "cell_type": "markdown",
      "source": [
        "#10. Write a Python program to get unique values from a list."
      ],
      "metadata": {
        "id": "CYxJ-4er-j5m"
      }
    },
    {
      "cell_type": "code",
      "source": [
        "# Python program to check if two\n",
        "# to get unique values from list\n",
        "# importing counter from collections\n",
        " \n",
        "from collections import Counter\n",
        " \n",
        "# Function to get unique values\n",
        " \n",
        " \n",
        "def unique(list1):\n",
        " \n",
        "    # Print directly by using * symbol\n",
        "    print(*Counter(list1))\n",
        " \n",
        " \n",
        "# driver code\n",
        "list1 = [10, 20, 10, 30, 40, 40]\n",
        "print(\"the unique values from 1st list is\")\n",
        "unique(list1)\n",
        " \n",
        " \n",
        "list2 = [1, 2, 1, 1, 3, 4, 3, 3, 5]\n",
        "print(\"\\nthe unique values from 2nd list is\")\n",
        "unique(list2)\n"
      ],
      "metadata": {
        "id": "bT8AC0RC_jQ9",
        "outputId": "d73af42b-b958-4fb9-e6fa-8ebf17fe9869",
        "colab": {
          "base_uri": "https://localhost:8080/"
        }
      },
      "execution_count": null,
      "outputs": [
        {
          "output_type": "stream",
          "name": "stdout",
          "text": [
            "the unique values from 1st list is\n",
            "10 20 30 40\n",
            "\n",
            "the unique values from 2nd list is\n",
            "1 2 3 4 5\n"
          ]
        }
      ]
    },
    {
      "cell_type": "markdown",
      "source": [
        "# 11. Write a Python program to unzip a list of tuples into individual lists.\n"
      ],
      "metadata": {
        "id": "oP-Dpwb9ANMj"
      }
    },
    {
      "cell_type": "code",
      "source": [
        "#create a tuple\n",
        "l = [(1,2), (3,4), (8,9)]\n",
        "print(list(zip(*l)))\n"
      ],
      "metadata": {
        "colab": {
          "base_uri": "https://localhost:8080/"
        },
        "id": "VT-o3vUxAMYs",
        "outputId": "98290812-ce53-463f-febd-8dddd7f4698c"
      },
      "execution_count": 1,
      "outputs": [
        {
          "output_type": "stream",
          "name": "stdout",
          "text": [
            "[(1, 3, 8), (2, 4, 9)]\n"
          ]
        }
      ]
    },
    {
      "cell_type": "markdown",
      "source": [
        "#12. Write a Python program to convert a list of tuples into a dictionary\n"
      ],
      "metadata": {
        "id": "R2EM62dOCWXx"
      }
    },
    {
      "cell_type": "code",
      "source": [
        "# initializing the list\n",
        "tuples = [('Key 1', 1), ('Key 2', 2), ('Key 3', 3), ('Key 4', 4), ('Key 5', 5)]\n",
        "\n",
        "# result\n",
        "result = {}\n",
        "\n",
        "# iterating over the tuples lists\n",
        "for (key, value) in tuples:\n",
        "   # setting the default value as list([])\n",
        "   # appending the current value\n",
        "   result.setdefault(key, []).append(value)\n",
        "\n",
        "# printing the list\n",
        "print(result)"
      ],
      "metadata": {
        "colab": {
          "base_uri": "https://localhost:8080/"
        },
        "id": "boVnu2RGCX88",
        "outputId": "afb1320f-2916-4336-89a6-ca4b0cf06790"
      },
      "execution_count": 3,
      "outputs": [
        {
          "output_type": "stream",
          "name": "stdout",
          "text": [
            "{'Key 1': [1], 'Key 2': [2], 'Key 3': [3], 'Key 4': [4], 'Key 5': [5]}\n"
          ]
        }
      ]
    },
    {
      "cell_type": "markdown",
      "source": [
        "#13. Write a Python program to sort a dictionary (ascending /descending) by value.\n"
      ],
      "metadata": {
        "id": "bJ9ih_l-DXiQ"
      }
    },
    {
      "cell_type": "code",
      "source": [
        "import operator\n",
        "d = {1: 2, 3: 4, 4: 3, 2: 1, 0: 0}\n",
        "print('Original dictionary : ',d)\n",
        "sorted_d = sorted(d.items(), key=operator.itemgetter(1))\n",
        "print('Dictionary in ascending order by value : ',sorted_d)\n",
        "sorted_d = dict( sorted(d.items(), key=operator.itemgetter(1),reverse=True))\n",
        "print('Dictionary in descending order by value : ',sorted_d)"
      ],
      "metadata": {
        "colab": {
          "base_uri": "https://localhost:8080/"
        },
        "id": "rs68C3aHDWne",
        "outputId": "d1317173-41e9-4f35-cd45-9e07d66f6eed"
      },
      "execution_count": 4,
      "outputs": [
        {
          "output_type": "stream",
          "name": "stdout",
          "text": [
            "Original dictionary :  {1: 2, 3: 4, 4: 3, 2: 1, 0: 0}\n",
            "Dictionary in ascending order by value :  [(0, 0), (2, 1), (1, 2), (4, 3), (3, 4)]\n",
            "Dictionary in descending order by value :  {3: 4, 4: 3, 1: 2, 2: 1, 0: 0}\n"
          ]
        }
      ]
    },
    {
      "cell_type": "markdown",
      "source": [
        "#14. Write a Python program to find the highest 3 values in a dictionary.\n"
      ],
      "metadata": {
        "id": "k6aiLDS_EU3N"
      }
    },
    {
      "cell_type": "code",
      "source": [
        "# Python program to demonstrate\n",
        "# finding 3 highest values in a Dictionary\n",
        " \n",
        "# Initial Dictionary\n",
        "my_dict = {'A': 67, 'B': 23, 'C': 45,\n",
        "        'D': 56, 'E': 12, 'F': 69}\n",
        " \n",
        "print(\"Initial Dictionary:\")\n",
        "print(my_dict, \"\\n\")\n",
        " \n",
        "print(\"Dictionary with 3 highest values:\")\n",
        "print(\"Keys: Values\")\n",
        " \n",
        "x=list(my_dict.values())\n",
        "d=dict()\n",
        "x.sort(reverse=True)\n",
        "x=x[:3]\n",
        "for i in x:\n",
        "    for j in my_dict.keys():\n",
        "        if(my_dict[j]==i):\n",
        "            print(str(j)+\" : \"+str(my_dict[j]))\n"
      ],
      "metadata": {
        "colab": {
          "base_uri": "https://localhost:8080/"
        },
        "id": "Lp6wd-XOEXtK",
        "outputId": "1ffba4de-6392-4d59-b1bc-6fe3f53149fc"
      },
      "execution_count": 5,
      "outputs": [
        {
          "output_type": "stream",
          "name": "stdout",
          "text": [
            "Initial Dictionary:\n",
            "{'A': 67, 'B': 23, 'C': 45, 'D': 56, 'E': 12, 'F': 69} \n",
            "\n",
            "Dictionary with 3 highest values:\n",
            "Keys: Values\n",
            "F : 69\n",
            "A : 67\n",
            "D : 56\n"
          ]
        }
      ]
    },
    {
      "cell_type": "markdown",
      "source": [
        "#15. Given a number n, write a python program to make and print the list of Fibonacci series up to n.\n",
        "#Input : n=7 \n",
        "#Hint : first 7 numbers in the serie\n",
        "#Expected output : \n",
        "# #First few Fibonacci numbers are 0, 1, 1, 2, 3, 5, 8, 13"
      ],
      "metadata": {
        "id": "qRFfoFhjFeo9"
      }
    },
    {
      "cell_type": "code",
      "source": [
        "# Program to display the Fibonacci sequence up to n-th term\n",
        "\n",
        "nterms = int(input(\"How many terms? \"))\n",
        "\n",
        "# first two terms\n",
        "n1, n2 = 0, 1\n",
        "count = 0\n",
        "\n",
        "# check if the number of terms is valid\n",
        "if nterms <= 0:\n",
        "   print(\"Please enter a positive integer\")\n",
        "# if there is only one term, return n1\n",
        "elif nterms == 1:\n",
        "   print(\"Fibonacci sequence upto\",nterms,\":\")\n",
        "   print(n1)\n",
        "# generate fibonacci sequence\n",
        "else:\n",
        "   print(\"Fibonacci sequence:\")\n",
        "   while count < nterms:\n",
        "       print(n1)\n",
        "       nth = n1 + n2\n",
        "       # update values\n",
        "       n1 = n2\n",
        "       n2 = nth\n",
        "       count += 1"
      ],
      "metadata": {
        "colab": {
          "base_uri": "https://localhost:8080/"
        },
        "id": "LVP_sX9BFoSQ",
        "outputId": "a93efd09-f987-4ca9-c84b-4d9de60d032a"
      },
      "execution_count": 6,
      "outputs": [
        {
          "output_type": "stream",
          "name": "stdout",
          "text": [
            "How many terms? 7\n",
            "Fibonacci sequence:\n",
            "0\n",
            "1\n",
            "1\n",
            "2\n",
            "3\n",
            "5\n",
            "8\n"
          ]
        }
      ]
    },
    {
      "cell_type": "markdown",
      "source": [
        "#16. Counting the frequencies in a list using a dictionary in Python.\n",
        "#Input : [1, 1, 1, 5, 5, 3, 1, 3, 3, 1,4, 4, 4, 2, 2, 2, 2]\n",
        "#Expected output : 1 : 5 , 2 : 4 , 3 : 3 , 4 : 3 , 5 : 2"
      ],
      "metadata": {
        "id": "5ROiJELPG76Q"
      }
    },
    {
      "cell_type": "code",
      "source": [
        "# Python program to count the frequency of\n",
        "# elements in a list using a dictionary\n",
        " \n",
        "def CountFrequency(my_list):\n",
        "     \n",
        "   # Creating an empty dictionary\n",
        "   count = {}\n",
        "   for i in [1, 1, 1, 5, 5, 3, 1, 3, 3, 1 ,4, 4, 4, 2, 2, 2, 2]:\n",
        "    count[i] = count.get(i, 0) + 1\n",
        "   return count\n",
        " \n",
        "# Driver function\n",
        "if __name__ == \"__main__\":\n",
        "    my_list =[1, 1, 1, 5, 5, 3, 1, 3, 3, 1, 4, 4, 4, 2, 2, 2, 2]\n",
        "    print(CountFrequency(my_list))\n"
      ],
      "metadata": {
        "colab": {
          "base_uri": "https://localhost:8080/"
        },
        "id": "wttHskWgHJVT",
        "outputId": "ccdeade9-d58d-46a8-a91e-671deabf897f"
      },
      "execution_count": 7,
      "outputs": [
        {
          "output_type": "stream",
          "name": "stdout",
          "text": [
            "{1: 5, 5: 2, 3: 3, 4: 3, 2: 4}\n"
          ]
        }
      ]
    },
    {
      "cell_type": "markdown",
      "source": [
        "#17. Write a python program using function to find the sum of odd series and even series\n",
        "#Odd series: 12/ 1! + 32/ 3! + 52/ 5!+……n \n",
        "#Even series: 22/ 2! + 42/ 4! + 62/ 6!+……n\n"
      ],
      "metadata": {
        "id": "PoclxbJpJBsM"
      }
    },
    {
      "cell_type": "code",
      "source": [
        "Input : n = 4\n",
        "Output : 84\n",
        "Explanation : \n",
        "sum = 12 + 32 + 52 + 72\n",
        "    = 1 + 9 + 25 + 49\n",
        "    = 84\n",
        "\n",
        "Input : n = 10 \n",
        "Output : 1330\n",
        "Explanation :\n",
        "sum = 12 + 32 + 52 + 72 + 92 + 112 + 132 + 152 + 172 + 192\n",
        "    = 1 + 9 + 24 + 49 + . . . + 361\n",
        "    = 1330\n"
      ],
      "metadata": {
        "id": "Q0azp4PZJG1o"
      },
      "execution_count": null,
      "outputs": []
    },
    {
      "cell_type": "code",
      "source": [
        "# Python Program to find sum of series\n",
        "# 1^2 + 3^2 + 5^2 + . . . + (2*n - 1)^2.\n",
        " \n",
        "import math\n",
        " \n",
        "# Function to find sum of series.\n",
        "def sumOfSeries(n):\n",
        " \n",
        "    sum = 0\n",
        "    for i in range(1,n+1):\n",
        "        sum = sum + (2 * i - 1) * (2 * i - 1)\n",
        "    return sum\n",
        "     \n",
        "# driver code\n",
        "n= 10\n",
        "print(sumOfSeries(n))\n",
        " \n"
      ],
      "metadata": {
        "colab": {
          "base_uri": "https://localhost:8080/"
        },
        "id": "uVDEa9hRJ-Nh",
        "outputId": "80ad3c7a-d0a8-497b-9d2e-e003e1f88009"
      },
      "execution_count": 8,
      "outputs": [
        {
          "output_type": "stream",
          "name": "stdout",
          "text": [
            "1330\n"
          ]
        }
      ]
    },
    {
      "cell_type": "markdown",
      "source": [
        "#18. Python Program to Find Factorial of Number Using Recursion\n"
      ],
      "metadata": {
        "id": "hCf-VxZAKRm6"
      }
    },
    {
      "cell_type": "code",
      "source": [
        "# Factorial of a number using recursion\n",
        "\n",
        "def recur_factorial(n):\n",
        "   if n == 1:\n",
        "       return n\n",
        "   else:\n",
        "       return n*recur_factorial(n-1)\n",
        "\n",
        "num = 7\n",
        "\n",
        "# check if the number is negative\n",
        "if num < 0:\n",
        "   print(\"Sorry, factorial does not exist for negative numbers\")\n",
        "elif num == 0:\n",
        "   print(\"The factorial of 0 is 1\")\n",
        "else:\n",
        "   print(\"The factorial of\", num, \"is\", recur_factorial(num))\n"
      ],
      "metadata": {
        "colab": {
          "base_uri": "https://localhost:8080/"
        },
        "id": "jxU-GiNQKTfR",
        "outputId": "4ead925c-70c5-4643-9a43-a0e8d734e611"
      },
      "execution_count": 9,
      "outputs": [
        {
          "output_type": "stream",
          "name": "stdout",
          "text": [
            "The factorial of 7 is 5040\n"
          ]
        }
      ]
    },
    {
      "cell_type": "markdown",
      "source": [
        "#19. Write a Python function that takes a list and returns a new list with unique elements of the first list.\n"
      ],
      "metadata": {
        "id": "z3XIoAuTKp2m"
      }
    },
    {
      "cell_type": "code",
      "source": [
        "def f(l):\n",
        "\n",
        "    x = []\n",
        "\n",
        "    for a in l:\n",
        "\n",
        "        if a not in x:\n",
        "\n",
        "            x.append(a)\n",
        "\n",
        "    return x\n",
        "\n",
        "print(f([1,2,3,3,3,3,4,5]))\n",
        "\n"
      ],
      "metadata": {
        "colab": {
          "base_uri": "https://localhost:8080/"
        },
        "id": "LyL-p-1OKre9",
        "outputId": "04613d71-cab5-42d6-c082-ab34eff59279"
      },
      "execution_count": 10,
      "outputs": [
        {
          "output_type": "stream",
          "name": "stdout",
          "text": [
            "[1, 2, 3, 4, 5]\n"
          ]
        }
      ]
    },
    {
      "cell_type": "markdown",
      "source": [
        "#20. Mini project : \n",
        "Problem Statement : Password Generator \n",
        "Make a program to generate a strong password using the input given by the user. To generate a password, \n",
        "randomly take some words from the user input and then include numbers, special characters and capital \n",
        "letters to generate the password. Also, keep a check that password length is more than 8 characters. \n",
        "Note: Include Exception handling wherever required. Also, make a ‘User’ class and store the details like user \n",
        "id, name and password of each user as a tuple."
      ],
      "metadata": {
        "id": "-JVBpQXcLteN"
      }
    },
    {
      "cell_type": "code",
      "source": [
        "import random\n",
        "import array\n",
        "\n",
        "# maximum length of password needed\n",
        "# this can be changed to suit your password length\n",
        "MAX_LEN = 12\n",
        "\n",
        "# declare arrays of the character that we need in out password\n",
        "# Represented as chars to enable easy string concatenation\n",
        "DIGITS = ['0', '1', '2', '3', '4', '5', '6', '7', '8', '9']\n",
        "LOCASE_CHARACTERS = ['a', 'b', 'c', 'd', 'e', 'f', 'g', 'h',\n",
        "\t\t\t\t\t'i', 'j', 'k', 'm', 'n', 'o', 'p', 'q',\n",
        "\t\t\t\t\t'r', 's', 't', 'u', 'v', 'w', 'x', 'y',\n",
        "\t\t\t\t\t'z']\n",
        "\n",
        "UPCASE_CHARACTERS = ['A', 'B', 'C', 'D', 'E', 'F', 'G', 'H',\n",
        "\t\t\t\t\t'I', 'J', 'K', 'M', 'N', 'O', 'P', 'Q',\n",
        "\t\t\t\t\t'R', 'S', 'T', 'U', 'V', 'W', 'X', 'Y',\n",
        "\t\t\t\t\t'Z']\n",
        "\n",
        "SYMBOLS = ['@', '#', '$', '%', '=', ':', '?', '.', '/', '|', '~', '>',\n",
        "\t\t'*', '(', ')', '<']\n",
        "\n",
        "# combines all the character arrays above to form one array\n",
        "COMBINED_LIST = DIGITS + UPCASE_CHARACTERS + LOCASE_CHARACTERS + SYMBOLS\n",
        "\n",
        "# randomly select at least one character from each character set above\n",
        "rand_digit = random.choice(DIGITS)\n",
        "rand_upper = random.choice(UPCASE_CHARACTERS)\n",
        "rand_lower = random.choice(LOCASE_CHARACTERS)\n",
        "rand_symbol = random.choice(SYMBOLS)\n",
        "\n",
        "# combine the character randomly selected above\n",
        "# at this stage, the password contains only 4 characters but\n",
        "# we want a 12-character password\n",
        "temp_pass = rand_digit + rand_upper + rand_lower + rand_symbol\n",
        "\n",
        "\n",
        "# now that we are sure we have at least one character from each\n",
        "# set of characters, we fill the rest of\n",
        "# the password length by selecting randomly from the combined\n",
        "# list of character above.\n",
        "for x in range(MAX_LEN - 4):\n",
        "\ttemp_pass = temp_pass + random.choice(COMBINED_LIST)\n",
        "\n",
        "\t# convert temporary password into array and shuffle to\n",
        "\t# prevent it from having a consistent pattern\n",
        "\t# where the beginning of the password is predictable\n",
        "\ttemp_pass_list = array.array('u', temp_pass)\n",
        "\trandom.shuffle(temp_pass_list)\n",
        "\n",
        "# traverse the temporary password array and append the chars\n",
        "# to form the password\n",
        "password = \"\"\n",
        "for x in temp_pass_list:\n",
        "\t\tpassword = password + x\n",
        "\t\t\n",
        "# print out password\n",
        "print(password)\n"
      ],
      "metadata": {
        "colab": {
          "base_uri": "https://localhost:8080/"
        },
        "id": "tYXr_s4DL9Jt",
        "outputId": "3ac2287e-dd5a-4787-eb0e-ee8a7c14da56"
      },
      "execution_count": 11,
      "outputs": [
        {
          "output_type": "stream",
          "name": "stdout",
          "text": [
            ">JWw01oD8:t4\n"
          ]
        }
      ]
    }
  ]
}